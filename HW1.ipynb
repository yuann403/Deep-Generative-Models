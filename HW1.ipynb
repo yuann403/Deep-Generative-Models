{
  "nbformat": 4,
  "nbformat_minor": 0,
  "metadata": {
    "colab": {
      "provenance": [],
      "authorship_tag": "ABX9TyOza873+PIKTScelmBs0SF3",
      "include_colab_link": true
    },
    "kernelspec": {
      "name": "python3",
      "display_name": "Python 3"
    },
    "language_info": {
      "name": "python"
    }
  },
  "cells": [
    {
      "cell_type": "markdown",
      "metadata": {
        "id": "view-in-github",
        "colab_type": "text"
      },
      "source": [
        "<a href=\"https://colab.research.google.com/github/yuann403/Deep-Generative-Models/blob/main/HW1.ipynb\" target=\"_parent\"><img src=\"https://colab.research.google.com/assets/colab-badge.svg\" alt=\"Open In Colab\"/></a>"
      ]
    },
    {
      "cell_type": "markdown",
      "source": [
        "# 使用變分自編碼器（VAE）重建 MNIST 手寫數字"
      ],
      "metadata": {
        "id": "ScAl4u-o3sru"
      }
    },
    {
      "cell_type": "code",
      "source": [
        "import torch\n",
        "import torch.nn as nn\n",
        "import torch.optim as optim\n",
        "import torch.nn.functional as F\n",
        "from torch.utils.data import DataLoader\n",
        "import torchvision.datasets as datasets\n",
        "import torchvision.transforms as transforms\n",
        "import numpy as np\n",
        "import matplotlib.pyplot as plt\n",
        "import os"
      ],
      "metadata": {
        "id": "vhelelmn73YU"
      },
      "execution_count": 1,
      "outputs": []
    },
    {
      "cell_type": "code",
      "source": [
        "# 設定環境變數解決OpenMP警告\n",
        "os.environ['KMP_DUPLICATE_LIB_OK'] = 'TRUE'\n",
        "\n",
        "# 檢查GPU可用性\n",
        "device = torch.device('cuda' if torch.cuda.is_available() else 'cpu')\n",
        "print(f'Using device: {device}')"
      ],
      "metadata": {
        "colab": {
          "base_uri": "https://localhost:8080/"
        },
        "id": "QdguQiuj9cMt",
        "outputId": "101864de-9756-409b-fce8-fcb7779dc98b"
      },
      "execution_count": 2,
      "outputs": [
        {
          "output_type": "stream",
          "name": "stdout",
          "text": [
            "Using device: cpu\n"
          ]
        }
      ]
    },
    {
      "cell_type": "code",
      "source": [
        "# VAE模型定義\n",
        "class VAE(nn.Module):\n",
        "  def __init__(self, input_dim=784, hidden_dim=400, latent_dim=20):\n",
        "    super(VAE, self).__init__()\n",
        "\n",
        "    # Encoder\n",
        "    self.encoder_fc1 = nn.Linear(input_dim, hidden_dim)\n",
        "    self.encoder_fc2_mu = nn.Linear(hidden_dim, latent_dim)\n",
        "    self.encoder_fc2_logvar = nn.Linear(hidden_dim, latent_dim)\n",
        "\n",
        "    # Decoder\n",
        "    self.decoder_fc1 = nn.Linear(latent_dim, hidden_dim)\n",
        "    self.decoder_fc2 = nn.Linear(hidden_dim, input_dim)\n",
        "\n",
        "  def encode(self, x):\n",
        "    \"\"\"編碼器：將輸入轉換為潛在空間的均值和對數方差\"\"\"\n",
        "    h = F.relu(self.encoder_fc1(x))\n",
        "    mu = self.encoder_fc2_mu(h)\n",
        "    logvar = self.encoder_fc2_logvar(h)\n",
        "    return mu, logvar\n",
        "\n",
        "  def reparameterize(self, mu, logvar):\n",
        "    \"\"\"重參數化技巧：從標準正態分佈採樣\"\"\"\n",
        "    std = torch.exp(0.5 * logvar)\n",
        "    eps = torch.randn_like(std)\n",
        "    z = mu + eps * std\n",
        "    return z\n",
        "\n",
        "  def decode(self, z):\n",
        "    \"\"\"解碼器：將潛在變數重建為圖像\"\"\"\n",
        "    h = F.relu(self.decoder_fc1(z))\n",
        "    recon_x = torch.sigmoid(self.decoder_fc2(h))\n",
        "    return recon_x\n",
        "\n",
        "  def forward(self, x):\n",
        "    mu, logvar = self.encode(x)\n",
        "    z = self.reparameterize(mu, logvar)\n",
        "    recon_x = self.decode(z)\n",
        "    return recon_x, mu, logvar"
      ],
      "metadata": {
        "id": "Q4FSMaq89dm_"
      },
      "execution_count": 3,
      "outputs": []
    },
    {
      "cell_type": "code",
      "execution_count": 4,
      "metadata": {
        "collapsed": true,
        "id": "P0rFidWZ3g4C"
      },
      "outputs": [],
      "source": [
        "# VAE損失函數\n",
        "def vae_loss(recon_x, x, mu, logvar):\n",
        "  \"\"\"VAE損失函數 = 重建損失 + KL散度\"\"\"\n",
        "  # 重建損失（二元交叉熵）\n",
        "  recon_loss = F.binary_cross_entropy(recon_x, x, reduction='sum')\n",
        "\n",
        "  # KL散度\n",
        "  kl_loss = -0.5 * torch.sum(1 + logvar - mu.pow(2) - logvar.exp())\n",
        "\n",
        "  return recon_loss + kl_loss\n",
        "\n",
        "# 訓練函數\n",
        "def train_vae(model, train_loader, optimizer, epoch):\n",
        "  model.train()\n",
        "  total_loss = 0\n",
        "\n",
        "  for batch_idx, (data, _) in enumerate(train_loader):\n",
        "    data = data.to(device)\n",
        "    optimizer.zero_grad()\n",
        "\n",
        "    recon_data, mu, logvar = model(data)\n",
        "    loss = vae_loss(recon_data, data, mu, logvar)\n",
        "\n",
        "    loss.backward()\n",
        "    optimizer.step()\n",
        "\n",
        "    total_loss += loss.item()\n",
        "\n",
        "  avg_loss = total_loss / len(train_loader.dataset)\n",
        "  return avg_loss\n",
        "\n",
        "# 測試函數\n",
        "def test_vae(model, test_loader):\n",
        "  model.eval()\n",
        "  total_loss = 0\n",
        "\n",
        "  with torch.no_grad():\n",
        "    for data, _ in test_loader:\n",
        "      data = data.to(device)\n",
        "      recon_data, mu, logvar = model(data)\n",
        "      loss = vae_loss(recon_data, data, mu, logvar)\n",
        "      total_loss += loss.item()\n",
        "\n",
        "  avg_loss = total_loss / len(test_loader.dataset)\n",
        "  return avg_loss\n",
        "\n",
        "# 可視化結果函數\n",
        "def visualize_reconstruction(model, test_loader, num_samples=8):\n",
        "  model.eval()\n",
        "\n",
        "  with torch.no_grad():\n",
        "    # 取得測試資料\n",
        "    data, _ = next(iter(test_loader))\n",
        "    data = data[:num_samples].to(device)\n",
        "\n",
        "    # 重建資料\n",
        "    recon_data, _, _ = model(data)\n",
        "\n",
        "    # 轉換為圖像格式\n",
        "    data = data.cpu().view(-1, 28, 28)\n",
        "    recon_data = recon_data.cpu().view(-1, 28, 28)\n",
        "\n",
        "    # 繪製原始圖像和重建圖像\n",
        "    fig, axes = plt.subplots(2, num_samples, figsize=(15, 4))\n",
        "\n",
        "    for i in range(num_samples):\n",
        "      # 原始圖像\n",
        "      axes[0, i].imshow(data[i], cmap='gray')\n",
        "      axes[0, i].set_title('Input')\n",
        "      axes[0, i].axis('off')\n",
        "\n",
        "      # 重建圖像\n",
        "      axes[1, i].imshow(recon_data[i], cmap='gray')\n",
        "      axes[1, i].set_title('Reconstruction')\n",
        "      axes[1, i].axis('off')\n",
        "\n",
        "    plt.tight_layout()\n",
        "    plt.savefig('reconstruction.png', dpi=150, bbox_inches='tight')\n",
        "    plt.show()\n",
        "    print('已儲存重建圖檔 reconstruction.png')\n",
        "\n",
        "# 主程序\n",
        "def main():\n",
        "  # 資料預處理：將圖像轉換為[0,1]範圍並展平為784維向量\n",
        "  transform = transforms.Compose([\n",
        "      transforms.ToTensor(),\n",
        "      transforms.Lambda(lambda x: x.view(-1))  # 展平為784維\n",
        "  ])\n",
        "\n",
        "  # 使用torchvision下載MNIST數據集\n",
        "  train_dataset = datasets.MNIST(root='./data', train=True, download=True, transform=transform)\n",
        "  test_dataset = datasets.MNIST(root='./data', train=False, download=True, transform=transform)\n",
        "\n",
        "  # 創建數據載入器\n",
        "  train_loader = DataLoader(train_dataset, batch_size=128, shuffle=True)\n",
        "  test_loader = DataLoader(test_dataset, batch_size=128, shuffle=False)\n",
        "\n",
        "  # 創建模型\n",
        "  model = VAE(input_dim=784, hidden_dim=400, latent_dim=20).to(device)\n",
        "\n",
        "  # 創建優化器\n",
        "  optimizer = optim.Adam(model.parameters(), lr=1e-3)\n",
        "\n",
        "  # 訓練模型\n",
        "  num_epochs = 5\n",
        "  train_losses = []\n",
        "  test_losses = []\n",
        "\n",
        "  for epoch in range(1, num_epochs + 1):\n",
        "    train_loss = train_vae(model, train_loader, optimizer, epoch)\n",
        "    test_loss = test_vae(model, test_loader)\n",
        "\n",
        "    train_losses.append(train_loss)\n",
        "    test_losses.append(test_loss)\n",
        "\n",
        "    print(f'Epoch {epoch}, Average loss: {train_loss:.4f}')\n",
        "  print(\"訓練完成!\")\n",
        "\n",
        "  # 可視化重建結果\n",
        "  visualize_reconstruction(model, test_loader)"
      ]
    },
    {
      "cell_type": "code",
      "source": [
        "# 執行主程序\n",
        "if __name__ == \"__main__\":\n",
        "  main()"
      ],
      "metadata": {
        "colab": {
          "base_uri": "https://localhost:8080/",
          "height": 536
        },
        "id": "WXNwD0kRCqRA",
        "outputId": "a25ad1c3-8161-44f3-83fb-5f17cc7ac4e6"
      },
      "execution_count": 5,
      "outputs": [
        {
          "output_type": "stream",
          "name": "stdout",
          "text": [
            "Epoch 1, Average loss: 165.8659\n",
            "Epoch 2, Average loss: 121.6734\n",
            "Epoch 3, Average loss: 114.6492\n",
            "Epoch 4, Average loss: 111.6602\n",
            "Epoch 5, Average loss: 109.8635\n",
            "訓練完成!\n"
          ]
        },
        {
          "output_type": "display_data",
          "data": {
            "text/plain": [
              "<Figure size 1500x400 with 16 Axes>"
            ],
            "image/png": "[encoded data removed]"
          },
          "metadata": {}
        },
        {
          "output_type": "stream",
          "name": "stdout",
          "text": [
            "已儲存重建圖檔 reconstruction.png\n"
          ]
        }
      ]
    }
  ]
}